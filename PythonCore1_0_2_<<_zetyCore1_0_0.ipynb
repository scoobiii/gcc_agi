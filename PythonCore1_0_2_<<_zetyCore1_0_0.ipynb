{
  "cells": [
    {
      "cell_type": "markdown",
      "metadata": {
        "id": "view-in-github",
        "colab_type": "text"
      },
      "source": [
        "<a href=\"https://colab.research.google.com/github/scoobiii/gcc_agi/blob/main/PythonCore1_0_2_%3C%3C_zetyCore1_0_0.ipynb\" target=\"_parent\"><img src=\"https://colab.research.google.com/assets/colab-badge.svg\" alt=\"Open In Colab\"/></a>"
      ]
    },
    {
      "cell_type": "code",
      "source": [
        "#parabens dois dias e base de dicionario de dado zety\n",
        "\n",
        "import requests\n",
        "import json\n",
        "import string\n",
        "import operator\n",
        "import keyword\n",
        "import builtins\n",
        "from bs4 import BeautifulSoup\n",
        "\n",
        "class ObterVocabularioZety:\n",
        "    def __init__(self):\n",
        "        self.vocabulario_zety = {\n",
        "            \"palavras_chave\": keyword.kwlist,\n",
        "            \"funcoes_internas\": list(builtins.__dict__.keys()),\n",
        "            \"simbolos_alfabeticos\": string.ascii_letters,\n",
        "            \"operadores\": dir(operator),\n",
        "            \"pontuacao\": string.punctuation,\n",
        "            \"super_inteligencia\": self.buscar_apis_por_nivel()\n",
        "        }\n",
        "\n",
        "    def buscar_apis_por_nivel(self):\n",
        "        niveis_ai = [\"ML\", \"DL\", \"ANI\", \"AGI\", \"ASI\", \"Real AI\", \"Real Superintelligence\"]\n",
        "        super_inteligencia = {nivel: self.buscar_apis(nivel) for nivel in niveis_ai}\n",
        "        return super_inteligencia\n",
        "\n",
        "    def buscar_apis(self, nivel):\n",
        "        url = f\"https://api.github.com/search/repositories?q={nivel}+language:Python\"\n",
        "        response = requests.get(url)\n",
        "        if response.status_code == 200:\n",
        "            data = response.json()\n",
        "            return [(item['html_url'], item['stargazers_count'], item['forks_count']) for item in data.get('items', [])]\n",
        "        return []\n",
        "\n",
        "    def contar_valores(self):\n",
        "        total_valores_vocab = sum(\n",
        "            len(valores) if isinstance(valores, list) else\n",
        "            sum(len(apis) for apis in valores.values()) if isinstance(valores, dict) else 0\n",
        "            for valores in self.vocabulario_zety.values()\n",
        "        )\n",
        "\n",
        "        total_valores_apis = sum(len(apis) for apis in self.vocabulario_zety[\"super_inteligencia\"].values())\n",
        "\n",
        "        self.vocabulario_zety[\"Total_de_valores_do_vocabulario\"] = total_valores_vocab\n",
        "        self.vocabulario_zety[\"Total_de_APIs_encontradas\"] = total_valores_apis\n",
        "\n",
        "        return self.vocabulario_zety\n",
        "\n",
        "    def obter_vocabulario_zety(self):\n",
        "        self.contar_valores()\n",
        "        return self.vocabulario_zety\n",
        "\n",
        "    def gerar_json(self, filename):\n",
        "        vocabulario_completo = self.obter_vocabulario_zety()\n",
        "        with open(filename, \"w\") as json_file:\n",
        "            json.dump(vocabulario_completo, json_file, indent=2)\n",
        "\n",
        "# Exemplo de uso:\n",
        "if __name__ == \"__main__\":\n",
        "    # Criando uma instância da classe ObterVocabularioZety\n",
        "    vocabulario = ObterVocabularioZety()\n",
        "\n",
        "    # Gerando o JSON\n",
        "    vocabulario.gerar_json(\"vocabulario_zety.json\")\n"
      ],
      "metadata": {
        "id": "1tYi2nSCM3vG"
      },
      "execution_count": 1,
      "outputs": []
    },
    {
      "cell_type": "code",
      "source": [
        "!cat vocabulario_zety.json"
      ],
      "metadata": {
        "id": "bIwLYrdca9ln"
      },
      "execution_count": null,
      "outputs": []
    },
    {
      "cell_type": "markdown",
      "source": [
        "https://poe.com/s/M4SZ79Gq9z6WBdSPuMDT"
      ],
      "metadata": {
        "id": "Mo-4uUhxF1KT"
      }
    },
    {
      "cell_type": "code",
      "source": [],
      "metadata": {
        "id": "3X6xe9a_QCD4"
      },
      "execution_count": null,
      "outputs": []
    }
  ],
  "metadata": {
    "colab": {
      "provenance": [],
      "authorship_tag": "ABX9TyNtjW5jZZpHG3UOGNOrbaPj",
      "include_colab_link": true
    },
    "kernelspec": {
      "display_name": "Python 3",
      "name": "python3"
    },
    "language_info": {
      "name": "python"
    }
  },
  "nbformat": 4,
  "nbformat_minor": 0
}